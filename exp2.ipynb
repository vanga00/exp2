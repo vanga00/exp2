{
 "cells": [
  {
   "cell_type": "code",
   "execution_count": 15,
   "id": "61c45055",
   "metadata": {},
   "outputs": [
    {
     "name": "stdout",
     "output_type": "stream",
     "text": [
      "Steps: \n",
      "0 0\n",
      "4 0\n",
      "4 3\n",
      "0 3\n",
      "3 0\n",
      "3 3\n",
      "4 2\n",
      "0 2\n"
     ]
    },
    {
     "data": {
      "text/plain": [
       "True"
      ]
     },
     "execution_count": 15,
     "metadata": {},
     "output_type": "execute_result"
    }
   ],
   "source": [
    "\n",
    "from collections import defaultdict\n",
    "\n",
    "jug1, jug2, aim = 4, 3, 2\n",
    "\n",
    "visited = defaultdict(lambda: False)\n",
    "\n",
    "def waterJugSolver(amt1, amt2): \n",
    "\tif (amt1 == aim and amt2 == 0) or (amt2 == aim and amt1 == 0):\n",
    "\t\tprint(amt1, amt2)\n",
    "\t\treturn True\n",
    "\tif visited[(amt1, amt2)] == False:\n",
    "\t\tprint(amt1, amt2)\n",
    "\t\tvisited[(amt1, amt2)] = True\n",
    "\t\treturn (waterJugSolver(0, amt2) or\n",
    "\t\t\t\twaterJugSolver(amt1, 0) or\n",
    "\t\t\t\twaterJugSolver(jug1, amt2) or\n",
    "\t\t\t\twaterJugSolver(amt1, jug2) or\n",
    "\t\t\t\twaterJugSolver(amt1 + min(amt2, (jug1-amt1)),\n",
    "\t\t\t\tamt2 - min(amt2, (jug1-amt1))) or\n",
    "\t\t\t\twaterJugSolver(amt1 - min(amt1, (jug2-amt2)),\n",
    "\t\t\t\tamt2 + min(amt1, (jug2-amt2))))\n",
    "\telse:\n",
    "\t\treturn False\n",
    "\n",
    "print(\"Steps: \")\n",
    "\n",
    "waterJugSolver(0, 0)\n"
   ]
  }
 ],
 "metadata": {
  "kernelspec": {
   "display_name": "Python 3 (ipykernel)",
   "language": "python",
   "name": "python3"
  },
  "language_info": {
   "codemirror_mode": {
    "name": "ipython",
    "version": 3
   },
   "file_extension": ".py",
   "mimetype": "text/x-python",
   "name": "python",
   "nbconvert_exporter": "python",
   "pygments_lexer": "ipython3",
   "version": "3.11.5"
  }
 },
 "nbformat": 4,
 "nbformat_minor": 5
}
